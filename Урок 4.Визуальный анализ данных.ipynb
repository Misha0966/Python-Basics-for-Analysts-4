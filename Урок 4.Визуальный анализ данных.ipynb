{
 "cells": [
  {
   "cell_type": "markdown",
   "id": "9aadde44-3fef-4c3e-873d-92a7e0ea200e",
   "metadata": {},
   "source": [
    "**Задача 1:**"
   ]
  },
  {
   "cell_type": "markdown",
   "id": "dc4588bd-dc24-4d36-bb1b-db94c03f37e9",
   "metadata": {},
   "source": [
    "Постройте график\n",
    "\n",
    "Назовите график\n",
    "\n",
    "Сделайте именование оси x и оси y\n",
    "\n",
    "Сделайте выводы"
   ]
  },
  {
   "cell_type": "markdown",
   "id": "ea3b1901-c79f-48bc-82d6-b58a656337a1",
   "metadata": {},
   "source": [
    "*Решение:*"
   ]
  },
  {
   "cell_type": "code",
   "execution_count": 1,
   "id": "6c85b63a-ed18-433b-82a2-39da13e3f9f6",
   "metadata": {},
   "outputs": [
    {
     "data": {
      "text/html": [
       "<div>\n",
       "<style scoped>\n",
       "    .dataframe tbody tr th:only-of-type {\n",
       "        vertical-align: middle;\n",
       "    }\n",
       "\n",
       "    .dataframe tbody tr th {\n",
       "        vertical-align: top;\n",
       "    }\n",
       "\n",
       "    .dataframe thead th {\n",
       "        text-align: right;\n",
       "    }\n",
       "</style>\n",
       "<table border=\"1\" class=\"dataframe\">\n",
       "  <thead>\n",
       "    <tr style=\"text-align: right;\">\n",
       "      <th></th>\n",
       "      <th>id</th>\n",
       "      <th>date</th>\n",
       "      <th>price</th>\n",
       "      <th>bedrooms</th>\n",
       "      <th>bathrooms</th>\n",
       "      <th>sqft_living</th>\n",
       "      <th>sqft_lot</th>\n",
       "      <th>floors</th>\n",
       "      <th>waterfront</th>\n",
       "      <th>view</th>\n",
       "      <th>...</th>\n",
       "      <th>grade</th>\n",
       "      <th>sqft_above</th>\n",
       "      <th>sqft_basement</th>\n",
       "      <th>yr_built</th>\n",
       "      <th>yr_renovated</th>\n",
       "      <th>zipcode</th>\n",
       "      <th>lat</th>\n",
       "      <th>long</th>\n",
       "      <th>sqft_living15</th>\n",
       "      <th>sqft_lot15</th>\n",
       "    </tr>\n",
       "  </thead>\n",
       "  <tbody>\n",
       "    <tr>\n",
       "      <th>0</th>\n",
       "      <td>7129300520</td>\n",
       "      <td>20141013T000000</td>\n",
       "      <td>221900.0</td>\n",
       "      <td>3</td>\n",
       "      <td>1.00</td>\n",
       "      <td>1180</td>\n",
       "      <td>5650</td>\n",
       "      <td>1.0</td>\n",
       "      <td>0</td>\n",
       "      <td>0</td>\n",
       "      <td>...</td>\n",
       "      <td>7</td>\n",
       "      <td>1180</td>\n",
       "      <td>0</td>\n",
       "      <td>1955</td>\n",
       "      <td>0</td>\n",
       "      <td>98178</td>\n",
       "      <td>47.5112</td>\n",
       "      <td>-122.257</td>\n",
       "      <td>1340</td>\n",
       "      <td>5650</td>\n",
       "    </tr>\n",
       "    <tr>\n",
       "      <th>1</th>\n",
       "      <td>6414100192</td>\n",
       "      <td>20141209T000000</td>\n",
       "      <td>538000.0</td>\n",
       "      <td>3</td>\n",
       "      <td>2.25</td>\n",
       "      <td>2570</td>\n",
       "      <td>7242</td>\n",
       "      <td>2.0</td>\n",
       "      <td>0</td>\n",
       "      <td>0</td>\n",
       "      <td>...</td>\n",
       "      <td>7</td>\n",
       "      <td>2170</td>\n",
       "      <td>400</td>\n",
       "      <td>1951</td>\n",
       "      <td>1991</td>\n",
       "      <td>98125</td>\n",
       "      <td>47.7210</td>\n",
       "      <td>-122.319</td>\n",
       "      <td>1690</td>\n",
       "      <td>7639</td>\n",
       "    </tr>\n",
       "    <tr>\n",
       "      <th>2</th>\n",
       "      <td>5631500400</td>\n",
       "      <td>20150225T000000</td>\n",
       "      <td>180000.0</td>\n",
       "      <td>2</td>\n",
       "      <td>1.00</td>\n",
       "      <td>770</td>\n",
       "      <td>10000</td>\n",
       "      <td>1.0</td>\n",
       "      <td>0</td>\n",
       "      <td>0</td>\n",
       "      <td>...</td>\n",
       "      <td>6</td>\n",
       "      <td>770</td>\n",
       "      <td>0</td>\n",
       "      <td>1933</td>\n",
       "      <td>0</td>\n",
       "      <td>98028</td>\n",
       "      <td>47.7379</td>\n",
       "      <td>-122.233</td>\n",
       "      <td>2720</td>\n",
       "      <td>8062</td>\n",
       "    </tr>\n",
       "    <tr>\n",
       "      <th>3</th>\n",
       "      <td>2487200875</td>\n",
       "      <td>20141209T000000</td>\n",
       "      <td>604000.0</td>\n",
       "      <td>4</td>\n",
       "      <td>3.00</td>\n",
       "      <td>1960</td>\n",
       "      <td>5000</td>\n",
       "      <td>1.0</td>\n",
       "      <td>0</td>\n",
       "      <td>0</td>\n",
       "      <td>...</td>\n",
       "      <td>7</td>\n",
       "      <td>1050</td>\n",
       "      <td>910</td>\n",
       "      <td>1965</td>\n",
       "      <td>0</td>\n",
       "      <td>98136</td>\n",
       "      <td>47.5208</td>\n",
       "      <td>-122.393</td>\n",
       "      <td>1360</td>\n",
       "      <td>5000</td>\n",
       "    </tr>\n",
       "    <tr>\n",
       "      <th>4</th>\n",
       "      <td>1954400510</td>\n",
       "      <td>20150218T000000</td>\n",
       "      <td>510000.0</td>\n",
       "      <td>3</td>\n",
       "      <td>2.00</td>\n",
       "      <td>1680</td>\n",
       "      <td>8080</td>\n",
       "      <td>1.0</td>\n",
       "      <td>0</td>\n",
       "      <td>0</td>\n",
       "      <td>...</td>\n",
       "      <td>8</td>\n",
       "      <td>1680</td>\n",
       "      <td>0</td>\n",
       "      <td>1987</td>\n",
       "      <td>0</td>\n",
       "      <td>98074</td>\n",
       "      <td>47.6168</td>\n",
       "      <td>-122.045</td>\n",
       "      <td>1800</td>\n",
       "      <td>7503</td>\n",
       "    </tr>\n",
       "  </tbody>\n",
       "</table>\n",
       "<p>5 rows × 21 columns</p>\n",
       "</div>"
      ],
      "text/plain": [
       "           id             date     price  bedrooms  bathrooms  sqft_living  \\\n",
       "0  7129300520  20141013T000000  221900.0         3       1.00         1180   \n",
       "1  6414100192  20141209T000000  538000.0         3       2.25         2570   \n",
       "2  5631500400  20150225T000000  180000.0         2       1.00          770   \n",
       "3  2487200875  20141209T000000  604000.0         4       3.00         1960   \n",
       "4  1954400510  20150218T000000  510000.0         3       2.00         1680   \n",
       "\n",
       "   sqft_lot  floors  waterfront  view  ...  grade  sqft_above  sqft_basement  \\\n",
       "0      5650     1.0           0     0  ...      7        1180              0   \n",
       "1      7242     2.0           0     0  ...      7        2170            400   \n",
       "2     10000     1.0           0     0  ...      6         770              0   \n",
       "3      5000     1.0           0     0  ...      7        1050            910   \n",
       "4      8080     1.0           0     0  ...      8        1680              0   \n",
       "\n",
       "   yr_built  yr_renovated  zipcode      lat     long  sqft_living15  \\\n",
       "0      1955             0    98178  47.5112 -122.257           1340   \n",
       "1      1951          1991    98125  47.7210 -122.319           1690   \n",
       "2      1933             0    98028  47.7379 -122.233           2720   \n",
       "3      1965             0    98136  47.5208 -122.393           1360   \n",
       "4      1987             0    98074  47.6168 -122.045           1800   \n",
       "\n",
       "   sqft_lot15  \n",
       "0        5650  \n",
       "1        7639  \n",
       "2        8062  \n",
       "3        5000  \n",
       "4        7503  \n",
       "\n",
       "[5 rows x 21 columns]"
      ]
     },
     "execution_count": 1,
     "metadata": {},
     "output_type": "execute_result"
    }
   ],
   "source": [
    "import pandas as pd\n",
    "\n",
    "df = pd.read_csv('kc_house_data.csv', sep=',')\n",
    "df.head()"
   ]
  },
  {
   "cell_type": "code",
   "execution_count": 30,
   "id": "e29fcda2-7439-43c4-b4a6-23d93f368714",
   "metadata": {},
   "outputs": [],
   "source": [
    "import sys\n",
    "import matplotlib\n",
    "import matplotlib.pyplot as plt\n",
    "import numpy as np\n",
    "import pandas as pd"
   ]
  },
  {
   "cell_type": "code",
   "execution_count": 3,
   "id": "a1051506-9803-4cd8-a22f-cbe3b24b82d9",
   "metadata": {},
   "outputs": [
    {
     "data": {
      "image/png": "[encoded data removed]",
      "text/plain": [
       "<Figure size 432x288 with 1 Axes>"
      ]
     },
     "metadata": {
      "needs_background": "light"
     },
     "output_type": "display_data"
    }
   ],
   "source": [
    "plt.hist(df['price'])\n",
    "plt.title('Распределение стоимости')\n",
    "plt.xlabel('Цена')\n",
    "plt.ylabel('Количество');"
   ]
  },
  {
   "cell_type": "markdown",
   "id": "53a5600b-03af-4a6b-a2ad-9084406a4d21",
   "metadata": {},
   "source": [
    "*вывод:*"
   ]
  },
  {
   "cell_type": "markdown",
   "id": "d026ab52-8b54-402d-8b20-1cc3920efb0c",
   "metadata": {},
   "source": [
    "Колличество домов прямопропорционально их цене"
   ]
  },
  {
   "cell_type": "markdown",
   "id": "45d41e08-404b-411a-86f8-1bca4a6e6e8e",
   "metadata": {},
   "source": [
    "**1.1:**"
   ]
  },
  {
   "cell_type": "markdown",
   "id": "e88eef15-1303-4f12-b2d3-fcd75b8fb19b",
   "metadata": {},
   "source": [
    "Скачать данные по ссылке https://gbcdn.mrgcdn.ru/uploads/asset/4266730/attachment/08ec55854637add5247d22396d0f7456.csv"
   ]
  },
  {
   "cell_type": "markdown",
   "id": "875ef1a8-5f85-4b3c-a0d9-51c86e642532",
   "metadata": {},
   "source": [
    "**1.2:**"
   ]
  },
  {
   "cell_type": "markdown",
   "id": "9fa6a15a-3cfd-4f3a-ab52-6fbd084daecb",
   "metadata": {},
   "source": [
    "Изучите стоимости недвижимости"
   ]
  },
  {
   "cell_type": "markdown",
   "id": "c637b60e-c712-41d6-89d9-6e8fa6269df4",
   "metadata": {},
   "source": [
    "*Решение:*"
   ]
  },
  {
   "cell_type": "code",
   "execution_count": 4,
   "id": "83c2eff7-81ac-49ee-a31b-bb2a047fde60",
   "metadata": {},
   "outputs": [
    {
     "data": {
      "image/png": "[encoded data removed]",
      "text/plain": [
       "<Figure size 432x288 with 1 Axes>"
      ]
     },
     "metadata": {
      "needs_background": "light"
     },
     "output_type": "display_data"
    }
   ],
   "source": [
    "plt.hist(df['price'])\n",
    "plt.title('Распределение стоимости')\n",
    "plt.xlabel('price')\n",
    "plt.ylabel('Количество');"
   ]
  },
  {
   "cell_type": "markdown",
   "id": "78db0e21-ab37-43f7-a815-be249aa19f71",
   "metadata": {},
   "source": [
    "**1.3:**"
   ]
  },
  {
   "cell_type": "markdown",
   "id": "b4d175c3-fc8e-4fe7-bfb9-f683145aeff8",
   "metadata": {},
   "source": [
    "Изучите распределение квадратуры жилой"
   ]
  },
  {
   "cell_type": "markdown",
   "id": "878594b3-c998-4a73-8136-c857319af4d7",
   "metadata": {},
   "source": [
    "*Решение:*"
   ]
  },
  {
   "cell_type": "code",
   "execution_count": 7,
   "id": "f662b961-ce04-4ff9-bfdd-95ca568138c6",
   "metadata": {},
   "outputs": [
    {
     "data": {
      "text/plain": [
       "Text(0, 0.5, 'Количество')"
      ]
     },
     "execution_count": 7,
     "metadata": {},
     "output_type": "execute_result"
    },
    {
     "data": {
      "image/png": "[encoded data removed]",
      "text/plain": [
       "<Figure size 432x288 with 1 Axes>"
      ]
     },
     "metadata": {
      "needs_background": "light"
     },
     "output_type": "display_data"
    }
   ],
   "source": [
    "plt.hist(df['sqft_living'])\n",
    "plt.title('Распределение жилой площади')\n",
    "plt.xlabel('распределение жилой квадратуры')\n",
    "plt.ylabel('Количество')"
   ]
  },
  {
   "cell_type": "markdown",
   "id": "6d06b6e0-d00d-49a9-9347-35ebc9e14010",
   "metadata": {},
   "source": [
    "**1.4:**"
   ]
  },
  {
   "cell_type": "markdown",
   "id": "844d002e-0e43-4877-a80d-15236bdcd94b",
   "metadata": {},
   "source": [
    "Изучите распределение года постройки"
   ]
  },
  {
   "cell_type": "markdown",
   "id": "7e72d8dc-632c-4413-a230-659987e11cb7",
   "metadata": {},
   "source": [
    "*Решение:*"
   ]
  },
  {
   "cell_type": "code",
   "execution_count": 20,
   "id": "c1ea768f-10cd-4800-af7e-c2ec012bd3a9",
   "metadata": {},
   "outputs": [
    {
     "data": {
      "image/png": "[encoded data removed]",
      "text/plain": [
       "<Figure size 432x288 with 1 Axes>"
      ]
     },
     "metadata": {
      "needs_background": "light"
     },
     "output_type": "display_data"
    }
   ],
   "source": [
    "plt.hist(df['yr_built'])\n",
    "plt.title('Распределение года постройки')\n",
    "plt.xlabel('год постройки')\n",
    "plt.ylabel('Количество');"
   ]
  },
  {
   "cell_type": "markdown",
   "id": "39125403-beba-4c0e-be22-1bad5c37b834",
   "metadata": {},
   "source": [
    "**Задача 2:**"
   ]
  },
  {
   "cell_type": "markdown",
   "id": "46e590e3-e168-4cac-a381-2db39d5ad5f1",
   "metadata": {},
   "source": [
    "**2.1:**"
   ]
  },
  {
   "cell_type": "markdown",
   "id": "aca19a5e-ec38-46d1-b5cb-997f3de348a2",
   "metadata": {},
   "source": [
    "Изучите распределение домов от наличия вида на набережную\n",
    "\n",
    "Постройте график\n",
    "\n",
    "Сделайте выводы"
   ]
  },
  {
   "cell_type": "markdown",
   "id": "12552f46-dc72-4c60-86e4-31c610767c23",
   "metadata": {},
   "source": [
    "*Решение:*"
   ]
  },
  {
   "cell_type": "code",
   "execution_count": 21,
   "id": "22198e17-3973-4d56-9613-a91ae6b5b1b7",
   "metadata": {},
   "outputs": [
    {
     "data": {
      "text/plain": [
       "0    21450\n",
       "1      163\n",
       "Name: waterfront, dtype: int64"
      ]
     },
     "execution_count": 21,
     "metadata": {},
     "output_type": "execute_result"
    }
   ],
   "source": [
    "vid = df['waterfront'].value_counts()\n",
    "vid.head()"
   ]
  },
  {
   "cell_type": "code",
   "execution_count": 22,
   "id": "cbc2b43c-c7c6-411b-8f36-8bdd61fcb564",
   "metadata": {},
   "outputs": [
    {
     "data": {
      "text/plain": [
       "Text(0, 0.5, 'Количество')"
      ]
     },
     "execution_count": 22,
     "metadata": {},
     "output_type": "execute_result"
    },
    {
     "data": {
      "image/png": "[encoded data removed]",
      "text/plain": [
       "<Figure size 432x288 with 1 Axes>"
      ]
     },
     "metadata": {
      "needs_background": "light"
     },
     "output_type": "display_data"
    }
   ],
   "source": [
    "plt.hist(df['waterfront'])\n",
    "plt.title('Распределение домов от наличия вида на набережную')\n",
    "plt.xlabel('вид на набережную')\n",
    "plt.ylabel('Количество')"
   ]
  },
  {
   "cell_type": "markdown",
   "id": "167e4c58-41d4-4454-a745-5382674b3bd2",
   "metadata": {},
   "source": [
    "*Вывод:*"
   ]
  },
  {
   "cell_type": "markdown",
   "id": "5888c017-4440-40e1-9ad4-836844541b54",
   "metadata": {},
   "source": [
    "Количество домов с видом на набережную в десятки тысяч раз меньше, чем без вида на неё"
   ]
  },
  {
   "cell_type": "markdown",
   "id": "239471ba-b493-4f78-82fc-f9ecdbebad5a",
   "metadata": {},
   "source": [
    "**2.2:**"
   ]
  },
  {
   "cell_type": "markdown",
   "id": "4e109747-f6d6-4ae0-a812-c2d5765a2819",
   "metadata": {},
   "source": [
    "Изучите распределение этажей домов"
   ]
  },
  {
   "cell_type": "markdown",
   "id": "6d370220-0374-42f8-a281-bf0ad9844b68",
   "metadata": {},
   "source": [
    "*Решение:*"
   ]
  },
  {
   "cell_type": "code",
   "execution_count": 23,
   "id": "40619372-5a42-44cf-af2b-5975f9867672",
   "metadata": {},
   "outputs": [
    {
     "data": {
      "text/plain": [
       "1.0    10680\n",
       "2.0     8241\n",
       "1.5     1910\n",
       "3.0      613\n",
       "2.5      161\n",
       "3.5        8\n",
       "Name: floors, dtype: int64"
      ]
     },
     "execution_count": 23,
     "metadata": {},
     "output_type": "execute_result"
    }
   ],
   "source": [
    "df['floors'].value_counts()"
   ]
  },
  {
   "cell_type": "code",
   "execution_count": 24,
   "id": "a04f4665-6323-423d-ac32-134deae3f8de",
   "metadata": {},
   "outputs": [
    {
     "data": {
      "text/plain": [
       "Text(0, 0.5, 'Количество домов')"
      ]
     },
     "execution_count": 24,
     "metadata": {},
     "output_type": "execute_result"
    },
    {
     "data": {
      "image/png": "[encoded data removed]",
      "text/plain": [
       "<Figure size 432x288 with 1 Axes>"
      ]
     },
     "metadata": {
      "needs_background": "light"
     },
     "output_type": "display_data"
    }
   ],
   "source": [
    "plt.hist(df['floors'])\n",
    "plt.title('Изучение распределения этажей домов')\n",
    "plt.xlabel('Этажи')\n",
    "plt.ylabel('Количество домов')"
   ]
  },
  {
   "cell_type": "markdown",
   "id": "98600ab0-1d24-4d6d-ae08-4a44005c92b9",
   "metadata": {},
   "source": [
    "**2.3:**"
   ]
  },
  {
   "cell_type": "markdown",
   "id": "59f910c1-1846-4c8d-abc1-f39c0bf831d4",
   "metadata": {},
   "source": [
    "Изучите распределение состояния домов"
   ]
  },
  {
   "cell_type": "markdown",
   "id": "563f7eba-f683-4046-b895-fb88b370852d",
   "metadata": {},
   "source": [
    "*Решение:*"
   ]
  },
  {
   "cell_type": "code",
   "execution_count": 37,
   "id": "96cbb47f-6af4-4067-9fed-27b9eab81cb2",
   "metadata": {},
   "outputs": [
    {
     "data": {
      "text/plain": [
       "0    19489\n",
       "2      963\n",
       "3      510\n",
       "1      332\n",
       "4      319\n",
       "Name: view, dtype: int64"
      ]
     },
     "execution_count": 37,
     "metadata": {},
     "output_type": "execute_result"
    }
   ],
   "source": [
    "df['view'].value_counts()"
   ]
  },
  {
   "cell_type": "code",
   "execution_count": 38,
   "id": "a240f368-47b7-45d6-8a7b-10b20c2ada4f",
   "metadata": {},
   "outputs": [
    {
     "data": {
      "image/png": "[encoded data removed]",
      "text/plain": [
       "<Figure size 432x288 with 1 Axes>"
      ]
     },
     "metadata": {
      "needs_background": "light"
     },
     "output_type": "display_data"
    }
   ],
   "source": [
    "plt.hist(df['view'])\n",
    "plt.title('Изучение распределения состояния домов')\n",
    "plt.xlabel('Оценка')\n",
    "plt.ylabel('Количество домов');"
   ]
  },
  {
   "cell_type": "markdown",
   "id": "d06b9cc1-a557-4634-85de-71f280d33213",
   "metadata": {},
   "source": [
    "**Задача 3:**"
   ]
  },
  {
   "cell_type": "markdown",
   "id": "f40cad1d-ee38-4b77-bd28-18eaec8989be",
   "metadata": {},
   "source": [
    "Исследуйте, какие характеристики недвижимости влияют на стоимость недвижимости, с применением не менее 5 диаграмм из урока.\n",
    "\n",
    "Анализ сделайте в формате storytelling: дополнить каждый график письменными выводами и наблюдениями."
   ]
  },
  {
   "cell_type": "code",
   "execution_count": null,
   "id": "ae0d8299-a6ba-47c4-ac8c-3e14f7d45cce",
   "metadata": {},
   "outputs": [],
   "source": []
  }
 ],
 "metadata": {
  "kernelspec": {
   "display_name": "Python 3.8.7 64-bit",
   "language": "python",
   "name": "python3"
  },
  "language_info": {
   "codemirror_mode": {
    "name": "ipython",
    "version": 3
   },
   "file_extension": ".py",
   "mimetype": "text/x-python",
   "name": "python",
   "nbconvert_exporter": "python",
   "pygments_lexer": "ipython3",
   "version": "3.8.7"
  },
  "vscode": {
   "interpreter": {
    "hash": "4f5d54c95a78eef771a716afa02e3596d9ae6d6084800b8818a02aaf210a0954"
   }
  }
 },
 "nbformat": 4,
 "nbformat_minor": 5
}
